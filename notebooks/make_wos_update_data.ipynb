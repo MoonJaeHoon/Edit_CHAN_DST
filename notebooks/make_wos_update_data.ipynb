{
 "cells": [
  {
   "cell_type": "markdown",
   "metadata": {},
   "source": [
    "## WOZ Update 데이터부터 확인\n",
    "- 이를 잘 보고 WOS Update를 만들자"
   ]
  },
  {
   "cell_type": "code",
   "execution_count": 1,
   "metadata": {},
   "outputs": [
    {
     "name": "stdout",
     "output_type": "stream",
     "text": [
      "(56778, 75)\n",
      "(56778, 40)\n"
     ]
    }
   ],
   "source": [
    "import pandas as pd\n",
    "\n",
    "multiwoz_update=pd.read_csv(\"/opt/CHAN-DST/data/multiwoz-update/train.tsv\",sep='\\t')\n",
    "multiwoz = pd.read_csv(\"/opt/CHAN-DST/data/multiwoz/train.tsv\",sep='\\t')\n",
    "print(multiwoz_update.shape)\n",
    "print(multiwoz.shape)\n",
    "# print('='*30)\n",
    "# print(multiwoz_update.columns[-10:])\n",
    "# print(multiwoz.columns[-10:])"
   ]
  },
  {
   "cell_type": "code",
   "execution_count": 2,
   "metadata": {},
   "outputs": [
    {
     "name": "stdout",
     "output_type": "stream",
     "text": [
      "40\n",
      "40\n",
      "==============================\n",
      "35\n",
      "35\n"
     ]
    }
   ],
   "source": [
    "update_column = multiwoz_update.columns\n",
    "origin_column = multiwoz.columns\n",
    "print(len(origin_column))\n",
    "print(len([c for c in update_column if 'transition' not in c]))\n",
    "print('='*30)\n",
    "transition_column = [c for c in update_column[4:] if 'transition' in c and 'Unnamed' not in c]\n",
    "not_transition_column = [c for c in update_column[4:] if 'transition' not in c and 'Unnamed' not in c]\n",
    "print(len(not_transition_column))\n",
    "print(len(transition_column))"
   ]
  },
  {
   "cell_type": "code",
   "execution_count": 5,
   "metadata": {},
   "outputs": [],
   "source": [
    "# print(not_transition_column)\n",
    "# print(transition_column)"
   ]
  },
  {
   "cell_type": "code",
   "execution_count": 31,
   "metadata": {},
   "outputs": [
    {
     "name": "stdout",
     "output_type": "stream",
     "text": [
      "['hotel-book day-transition', 'hotel-book people-transition', 'hotel-book stay-transition']\n",
      "['hotel-book day', 'hotel-book people', 'hotel-book stay', 'hotel-internet', 'hotel-stars', 'hotel-type', 'train-arrive by', 'train-book people', 'train-day', 'train-departure', 'train-destination']\n"
     ]
    }
   ],
   "source": [
    "# np.unique(multiwoz_update.loc[:,transition_column].values)\n",
    "\n",
    "row_idx=1\n",
    "\n",
    "transition_nonzero = [c for c in transition_column if multiwoz_update.loc[row_idx,c]!=0]\n",
    "not_none = [c for c in not_transition_column if multiwoz_update.loc[row_idx,c]!='none']\n",
    "\n",
    "print(transition_nonzero)\n",
    "print(not_none)"
   ]
  },
  {
   "cell_type": "code",
   "execution_count": 19,
   "metadata": {},
   "outputs": [
    {
     "data": {
      "text/html": "<div>\n<style scoped>\n    .dataframe tbody tr th:only-of-type {\n        vertical-align: middle;\n    }\n\n    .dataframe tbody tr th {\n        vertical-align: top;\n    }\n\n    .dataframe thead th {\n        text-align: right;\n    }\n</style>\n<table border=\"1\" class=\"dataframe\">\n  <thead>\n    <tr style=\"text-align: right;\">\n      <th></th>\n      <th># Dialogue ID</th>\n      <th>Turn Index</th>\n      <th>User Utterance</th>\n      <th>System Response</th>\n      <th>attraction-area</th>\n      <th>attraction-name</th>\n      <th>attraction-type</th>\n      <th>bus-day</th>\n      <th>bus-departure</th>\n      <th>bus-destination</th>\n      <th>...</th>\n      <th>taxi-departure-transition</th>\n      <th>taxi-destination-transition</th>\n      <th>taxi-leave at-transition</th>\n      <th>train-arrive by-transition</th>\n      <th>train-book people-transition</th>\n      <th>train-day-transition</th>\n      <th>train-departure-transition</th>\n      <th>train-destination-transition</th>\n      <th>train-leave at-transition</th>\n      <th>Unnamed: 74</th>\n    </tr>\n  </thead>\n  <tbody>\n    <tr>\n      <th>0</th>\n      <td>SNG01856.json</td>\n      <td>0</td>\n      <td>am looking for a place to to stay that has che...</td>\n      <td>NaN</td>\n      <td>none</td>\n      <td>none</td>\n      <td>none</td>\n      <td>none</td>\n      <td>none</td>\n      <td>none</td>\n      <td>...</td>\n      <td>0</td>\n      <td>0</td>\n      <td>0</td>\n      <td>0</td>\n      <td>0</td>\n      <td>0</td>\n      <td>0</td>\n      <td>0</td>\n      <td>0</td>\n      <td>NaN</td>\n    </tr>\n    <tr>\n      <th>1</th>\n      <td>SNG01856.json</td>\n      <td>1</td>\n      <td>no, i just need to make sure it's cheap. oh, a...</td>\n      <td>Okay, do you have a specific area you want to ...</td>\n      <td>none</td>\n      <td>none</td>\n      <td>none</td>\n      <td>none</td>\n      <td>none</td>\n      <td>none</td>\n      <td>...</td>\n      <td>0</td>\n      <td>0</td>\n      <td>0</td>\n      <td>0</td>\n      <td>0</td>\n      <td>0</td>\n      <td>0</td>\n      <td>0</td>\n      <td>0</td>\n      <td>NaN</td>\n    </tr>\n    <tr>\n      <th>2</th>\n      <td>SNG01856.json</td>\n      <td>2</td>\n      <td>Yes, please. 6 people 3 nights starting on tue...</td>\n      <td>I found 1 cheap hotel for you that includes pa...</td>\n      <td>none</td>\n      <td>none</td>\n      <td>none</td>\n      <td>none</td>\n      <td>none</td>\n      <td>none</td>\n      <td>...</td>\n      <td>0</td>\n      <td>0</td>\n      <td>0</td>\n      <td>0</td>\n      <td>0</td>\n      <td>0</td>\n      <td>0</td>\n      <td>0</td>\n      <td>0</td>\n      <td>NaN</td>\n    </tr>\n    <tr>\n      <th>3</th>\n      <td>SNG01856.json</td>\n      <td>3</td>\n      <td>how about only 2 nights.</td>\n      <td>I am sorry but I wasn't able to book that for ...</td>\n      <td>none</td>\n      <td>none</td>\n      <td>none</td>\n      <td>none</td>\n      <td>none</td>\n      <td>none</td>\n      <td>...</td>\n      <td>0</td>\n      <td>0</td>\n      <td>0</td>\n      <td>0</td>\n      <td>0</td>\n      <td>0</td>\n      <td>0</td>\n      <td>0</td>\n      <td>0</td>\n      <td>NaN</td>\n    </tr>\n    <tr>\n      <th>4</th>\n      <td>SNG01856.json</td>\n      <td>4</td>\n      <td>No, that will be all. Good bye.</td>\n      <td>Booking was successful. Reference number is : ...</td>\n      <td>none</td>\n      <td>none</td>\n      <td>none</td>\n      <td>none</td>\n      <td>none</td>\n      <td>none</td>\n      <td>...</td>\n      <td>0</td>\n      <td>0</td>\n      <td>0</td>\n      <td>0</td>\n      <td>0</td>\n      <td>0</td>\n      <td>0</td>\n      <td>0</td>\n      <td>0</td>\n      <td>NaN</td>\n    </tr>\n    <tr>\n      <th>5</th>\n      <td>SNG0129.json</td>\n      <td>0</td>\n      <td>Hello, I have been robbed. Can you please help...</td>\n      <td>NaN</td>\n      <td>none</td>\n      <td>none</td>\n      <td>none</td>\n      <td>none</td>\n      <td>none</td>\n      <td>none</td>\n      <td>...</td>\n      <td>0</td>\n      <td>0</td>\n      <td>0</td>\n      <td>0</td>\n      <td>0</td>\n      <td>0</td>\n      <td>0</td>\n      <td>0</td>\n      <td>0</td>\n      <td>NaN</td>\n    </tr>\n    <tr>\n      <th>6</th>\n      <td>SNG0129.json</td>\n      <td>1</td>\n      <td>Can I please have the postcode as well?</td>\n      <td>Parkside Police Station is in Parkside, Cambri...</td>\n      <td>none</td>\n      <td>none</td>\n      <td>none</td>\n      <td>none</td>\n      <td>none</td>\n      <td>none</td>\n      <td>...</td>\n      <td>0</td>\n      <td>0</td>\n      <td>0</td>\n      <td>0</td>\n      <td>0</td>\n      <td>0</td>\n      <td>0</td>\n      <td>0</td>\n      <td>0</td>\n      <td>NaN</td>\n    </tr>\n    <tr>\n      <th>7</th>\n      <td>SNG0129.json</td>\n      <td>2</td>\n      <td>Was Parkside the address of the police station...</td>\n      <td>The postcode for the Parkside Police Station i...</td>\n      <td>none</td>\n      <td>none</td>\n      <td>none</td>\n      <td>none</td>\n      <td>none</td>\n      <td>none</td>\n      <td>...</td>\n      <td>0</td>\n      <td>0</td>\n      <td>0</td>\n      <td>0</td>\n      <td>0</td>\n      <td>0</td>\n      <td>0</td>\n      <td>0</td>\n      <td>0</td>\n      <td>NaN</td>\n    </tr>\n    <tr>\n      <th>8</th>\n      <td>SNG0129.json</td>\n      <td>3</td>\n      <td>Thank you that will be all for now.</td>\n      <td>Yes, Parkside is the address.</td>\n      <td>none</td>\n      <td>none</td>\n      <td>none</td>\n      <td>none</td>\n      <td>none</td>\n      <td>none</td>\n      <td>...</td>\n      <td>0</td>\n      <td>0</td>\n      <td>0</td>\n      <td>0</td>\n      <td>0</td>\n      <td>0</td>\n      <td>0</td>\n      <td>0</td>\n      <td>0</td>\n      <td>NaN</td>\n    </tr>\n    <tr>\n      <th>9</th>\n      <td>SNG0129.json</td>\n      <td>4</td>\n      <td>You were great. Goodbye.</td>\n      <td>Great. Thank you for contacting Cambridge Town...</td>\n      <td>none</td>\n      <td>none</td>\n      <td>none</td>\n      <td>none</td>\n      <td>none</td>\n      <td>none</td>\n      <td>...</td>\n      <td>0</td>\n      <td>0</td>\n      <td>0</td>\n      <td>0</td>\n      <td>0</td>\n      <td>0</td>\n      <td>0</td>\n      <td>0</td>\n      <td>0</td>\n      <td>NaN</td>\n    </tr>\n  </tbody>\n</table>\n<p>10 rows × 75 columns</p>\n</div>",
      "text/plain": "   # Dialogue ID  Turn Index  \\\n0  SNG01856.json           0   \n1  SNG01856.json           1   \n2  SNG01856.json           2   \n3  SNG01856.json           3   \n4  SNG01856.json           4   \n5   SNG0129.json           0   \n6   SNG0129.json           1   \n7   SNG0129.json           2   \n8   SNG0129.json           3   \n9   SNG0129.json           4   \n\n                                      User Utterance  \\\n0  am looking for a place to to stay that has che...   \n1  no, i just need to make sure it's cheap. oh, a...   \n2  Yes, please. 6 people 3 nights starting on tue...   \n3                           how about only 2 nights.   \n4                    No, that will be all. Good bye.   \n5  Hello, I have been robbed. Can you please help...   \n6            Can I please have the postcode as well?   \n7  Was Parkside the address of the police station...   \n8                Thank you that will be all for now.   \n9                           You were great. Goodbye.   \n\n                                     System Response attraction-area  \\\n0                                                NaN            none   \n1  Okay, do you have a specific area you want to ...            none   \n2  I found 1 cheap hotel for you that includes pa...            none   \n3  I am sorry but I wasn't able to book that for ...            none   \n4  Booking was successful. Reference number is : ...            none   \n5                                                NaN            none   \n6  Parkside Police Station is in Parkside, Cambri...            none   \n7  The postcode for the Parkside Police Station i...            none   \n8                      Yes, Parkside is the address.            none   \n9  Great. Thank you for contacting Cambridge Town...            none   \n\n  attraction-name attraction-type bus-day bus-departure bus-destination  ...  \\\n0            none            none    none          none            none  ...   \n1            none            none    none          none            none  ...   \n2            none            none    none          none            none  ...   \n3            none            none    none          none            none  ...   \n4            none            none    none          none            none  ...   \n5            none            none    none          none            none  ...   \n6            none            none    none          none            none  ...   \n7            none            none    none          none            none  ...   \n8            none            none    none          none            none  ...   \n9            none            none    none          none            none  ...   \n\n  taxi-departure-transition taxi-destination-transition  \\\n0                         0                           0   \n1                         0                           0   \n2                         0                           0   \n3                         0                           0   \n4                         0                           0   \n5                         0                           0   \n6                         0                           0   \n7                         0                           0   \n8                         0                           0   \n9                         0                           0   \n\n  taxi-leave at-transition train-arrive by-transition  \\\n0                        0                          0   \n1                        0                          0   \n2                        0                          0   \n3                        0                          0   \n4                        0                          0   \n5                        0                          0   \n6                        0                          0   \n7                        0                          0   \n8                        0                          0   \n9                        0                          0   \n\n  train-book people-transition train-day-transition  \\\n0                            0                    0   \n1                            0                    0   \n2                            0                    0   \n3                            0                    0   \n4                            0                    0   \n5                            0                    0   \n6                            0                    0   \n7                            0                    0   \n8                            0                    0   \n9                            0                    0   \n\n  train-departure-transition train-destination-transition  \\\n0                          0                            0   \n1                          0                            0   \n2                          0                            0   \n3                          0                            0   \n4                          0                            0   \n5                          0                            0   \n6                          0                            0   \n7                          0                            0   \n8                          0                            0   \n9                          0                            0   \n\n  train-leave at-transition Unnamed: 74  \n0                         0         NaN  \n1                         0         NaN  \n2                         0         NaN  \n3                         0         NaN  \n4                         0         NaN  \n5                         0         NaN  \n6                         0         NaN  \n7                         0         NaN  \n8                         0         NaN  \n9                         0         NaN  \n\n[10 rows x 75 columns]"
     },
     "execution_count": 19,
     "metadata": {},
     "output_type": "execute_result"
    }
   ],
   "source": [
    "multiwoz_update.head(10)"
   ]
  },
  {
   "cell_type": "code",
   "execution_count": 17,
   "metadata": {},
   "outputs": [
    {
     "data": {
      "text/plain": "['SNG01856.json',\n 'SNG0129.json',\n 'MUL2168.json',\n 'SNG01445.json',\n 'MUL2105.json',\n 'PMUL1690.json',\n 'MUL2395.json',\n 'SNG0190.json',\n 'PMUL1170.json',\n 'SNG01741.json',\n 'PMUL4899.json',\n 'MUL2261.json',\n 'SSNG0348.json',\n 'MUL0784.json',\n 'MUL0886.json',\n 'PMUL2512.json',\n 'SNG0548.json',\n 'MUL1474.json',\n 'PMUL4372.json',\n 'PMUL4047.json',\n 'PMUL0151.json',\n 'MUL0586.json',\n 'PMUL3552.json',\n 'PMUL1539.json',\n 'MUL1790.json',\n 'PMUL3021.json',\n 'SNG0699.json',\n 'SNG0228.json',\n 'PMUL3296.json',\n 'MUL1434.json',\n 'PMUL2203.json',\n 'PMUL3250.json',\n 'PMUL0510.json',\n 'MUL1124.json',\n 'PMUL3719.json',\n 'SNG0297.json',\n 'PMUL2049.json',\n 'SNG01722.json',\n 'PMUL2100.json',\n 'MUL1853.json',\n 'MUL2694.json',\n 'SNG1006.json',\n 'SNG1345.json',\n 'MUL1299.json',\n 'MUL1490.json',\n 'PMUL2749.json',\n 'MUL1628.json',\n 'PMUL2202.json',\n 'SNG01450.json',\n 'SNG0131.json',\n 'SNG0984.json',\n 'PMUL1419.json',\n 'SNG0798.json',\n 'MUL0161.json',\n 'PMUL2803.json',\n 'MUL0925.json',\n 'MUL1005.json',\n 'SNG0104.json',\n 'SNG1197.json',\n 'MUL1265.json',\n 'WOZ20259.json',\n 'MUL1223.json',\n 'PMUL2596.json',\n 'MUL2037.json',\n 'MUL1497.json',\n 'MUL2256.json',\n 'MUL0076.json',\n 'WOZ20114.json',\n 'MUL1100.json',\n 'PMUL4469.json',\n 'PMUL0263.json',\n 'PMUL3597.json',\n 'PMUL1454.json',\n 'MUL1618.json',\n 'PMUL3342.json',\n 'PMUL0906.json',\n 'PMUL0695.json',\n 'PMUL0307.json',\n 'PMUL3045.json',\n 'MUL1113.json',\n 'SNG0385.json',\n 'SNG0285.json',\n 'SNG1134.json',\n 'PMUL2082.json',\n 'PMUL3031.json',\n 'PMUL1499.json',\n 'SNG1097.json',\n 'PMUL0608.json',\n 'PMUL4191.json',\n 'MUL0265.json',\n 'PMUL0433.json',\n 'WOZ20214.json',\n 'MUL1567.json',\n 'WOZ20593.json',\n 'PMUL4487.json',\n 'MUL2535.json',\n 'PMUL0552.json',\n 'PMUL0621.json',\n 'PMUL1229.json',\n 'PMUL1169.json',\n 'SNG0487.json',\n 'PMUL3299.json',\n 'PMUL3486.json',\n 'SNG0918.json',\n 'SSNG0248.json',\n 'SNG0914.json',\n 'PMUL4501.json',\n 'PMUL2349.json',\n 'SNG01381.json',\n 'PMUL2662.json',\n 'SNG01277.json',\n 'PMUL1986.json',\n 'MUL2534.json',\n 'MUL0743.json',\n 'PMUL3059.json',\n 'MUL2238.json',\n 'PMUL2010.json',\n 'SNG1061.json',\n 'WOZ20664.json',\n 'PMUL1815.json',\n 'MUL2379.json',\n 'PMUL0143.json',\n 'MUL0343.json',\n 'PMUL3184.json',\n 'MUL1052.json',\n 'MUL1322.json',\n 'WOZ20324.json',\n 'PMUL2522.json',\n 'WOZ20343.json',\n 'PMUL4513.json',\n 'SNG1235.json',\n 'SNG0359.json',\n 'MUL0661.json',\n 'SNG01185.json',\n 'SNG02298.json',\n 'PMUL0148.json',\n 'SNG02143.json',\n 'MUL2085.json',\n 'MUL2057.json',\n 'PMUL4594.json',\n 'MUL1541.json',\n 'PMUL0224.json',\n 'PMUL0240.json',\n 'PMUL2922.json',\n 'MUL2443.json',\n 'MUL0779.json',\n 'SNG01611.json',\n 'WOZ20299.json',\n 'PMUL3482.json',\n 'SNG01425.json',\n 'WOZ20453.json',\n 'PMUL4021.json',\n 'PMUL4891.json',\n 'PMUL3594.json',\n 'MUL1566.json',\n 'PMUL1967.json',\n 'MUL2575.json',\n 'PMUL1296.json',\n 'PMUL1729.json',\n 'WOZ20531.json',\n 'MUL0173.json',\n 'SNG0312.json',\n 'WOZ20274.json',\n 'PMUL1375.json',\n 'SNG0524.json',\n 'PMUL1013.json',\n 'SSNG0379.json',\n 'MUL1733.json',\n 'MUL1483.json',\n 'PMUL2837.json',\n 'PMUL0064.json',\n 'SSNG0187.json',\n 'PMUL1407.json',\n 'SSNG0007.json',\n 'WOZ20497.json',\n 'MUL0855.json',\n 'SNG1063.json',\n 'MUL1013.json',\n 'PMUL0211.json',\n 'MUL0203.json',\n 'PMUL4678.json',\n 'SNG0324.json',\n 'SNG0112.json',\n 'PMUL0342.json',\n 'WOZ20358.json',\n 'SSNG0019.json',\n 'PMUL0565.json',\n 'WOZ20658.json',\n 'SNG0235.json',\n 'MUL1275.json',\n 'SNG1322.json',\n 'SNG1171.json',\n 'SNG0826.json',\n 'SNG1155.json',\n 'PMUL4183.json',\n 'PMUL0241.json',\n 'PMUL3254.json',\n 'WOZ20481.json',\n 'MUL1172.json',\n 'MUL1118.json',\n 'SNG1248.json',\n 'SNG0790.json',\n 'MUL2329.json',\n 'PMUL4353.json',\n 'WOZ20478.json',\n 'WOZ20576.json',\n 'SNG0464.json',\n 'WOZ20406.json',\n 'PMUL4967.json',\n 'MUL2647.json',\n 'WOZ20107.json',\n 'MUL1040.json',\n 'SNG02142.json',\n 'MUL2345.json',\n 'PMUL1919.json',\n 'PMUL4352.json',\n 'MUL0840.json',\n 'SNG1246.json',\n 'PMUL1753.json',\n 'SNG0238.json',\n 'MUL1674.json',\n 'PMUL1033.json',\n 'SNG1344.json',\n 'MUL0816.json',\n 'PMUL3347.json',\n 'PMUL3932.json',\n 'SSNG0300.json',\n 'PMUL3804.json',\n 'MUL1403.json',\n 'WOZ20224.json',\n 'PMUL2529.json',\n 'PMUL1239.json',\n 'SNG0404.json',\n 'MUL0464.json',\n 'PMUL0248.json',\n 'PMUL1487.json',\n 'PMUL1826.json',\n 'MUL2342.json',\n 'MUL1150.json',\n 'SNG01637.json',\n 'PMUL3585.json',\n 'SNG02210.json',\n 'PMUL0292.json',\n 'PMUL4632.json',\n 'PMUL0335.json',\n 'SNG1334.json',\n 'PMUL3777.json',\n 'PMUL3040.json',\n 'PMUL0776.json',\n 'SNG0067.json',\n 'SNG1181.json',\n 'MUL0329.json',\n 'PMUL3265.json',\n 'SNG0732.json',\n 'PMUL2201.json',\n 'SNG0255.json',\n 'SNG01268.json',\n 'MUL1378.json',\n 'PMUL2044.json',\n 'PMUL1578.json',\n 'PMUL4037.json',\n 'PMUL3761.json',\n 'PMUL2364.json',\n 'PMUL2440.json',\n 'PMUL0323.json',\n 'SNG02011.json',\n 'MUL2559.json',\n 'SSNG0368.json',\n 'PMUL0771.json',\n 'MUL0428.json',\n 'MUL1067.json',\n 'PMUL2187.json',\n 'MUL0644.json',\n 'SNG02322.json',\n 'WOZ20642.json',\n 'PMUL3882.json',\n 'WOZ20583.json',\n 'PMUL2653.json',\n 'MUL1234.json',\n 'PMUL1820.json',\n 'SNG01829.json',\n 'MUL2241.json',\n 'SNG02081.json',\n 'PMUL2668.json',\n 'SNG0502.json',\n 'SNG01420.json',\n 'SSNG0077.json',\n 'PMUL4692.json',\n 'PMUL2191.json',\n 'MUL1496.json',\n 'SNG02177.json',\n 'SNG1103.json',\n 'PMUL3676.json',\n 'MUL1727.json',\n 'PMUL2369.json',\n 'PMUL1571.json',\n 'WOZ20268.json',\n 'WOZ20645.json',\n 'MUL1867.json',\n 'PMUL2116.json',\n 'PMUL2069.json',\n 'MUL1998.json',\n 'WOZ20303.json',\n 'SNG1279.json',\n 'WOZ20348.json',\n 'MUL0516.json',\n 'MUL0835.json',\n 'PMUL4179.json',\n 'PMUL1177.json',\n 'MUL2322.json',\n 'MUL1411.json',\n 'PMUL0777.json',\n 'PMUL1021.json',\n 'SNG02073.json',\n 'PMUL3490.json',\n 'SSNG0076.json',\n 'PMUL3178.json',\n 'MUL2537.json',\n 'SNG01160.json',\n 'PMUL0174.json',\n 'PMUL3013.json',\n 'PMUL4512.json',\n 'PMUL1213.json',\n 'MUL0562.json',\n 'PMUL1888.json',\n 'PMUL2886.json',\n 'PMUL2290.json',\n 'MUL0462.json',\n 'SNG0560.json',\n 'SSNG0099.json',\n 'SNG01340.json',\n 'PMUL0403.json',\n 'PMUL3636.json',\n 'PMUL4566.json',\n 'PMUL0914.json',\n 'MUL2022.json',\n 'SNG01406.json',\n 'SSNG0106.json',\n 'PMUL0243.json',\n 'SSNG0098.json',\n 'WOZ20300.json',\n 'WOZ20643.json',\n 'PMUL2417.json',\n 'SNG01442.json',\n 'PMUL0886.json',\n 'PMUL2449.json',\n 'SNG0342.json',\n 'SNG0133.json',\n 'SNG1141.json',\n 'PMUL2310.json',\n 'PMUL3268.json',\n 'PMUL3146.json',\n 'MUL0895.json',\n 'MUL2340.json',\n 'PMUL3368.json',\n 'MUL2673.json',\n 'PMUL1885.json',\n 'WOZ20199.json',\n 'PMUL0945.json',\n 'PMUL3953.json',\n 'PMUL4852.json',\n 'WOZ20528.json',\n 'SNG02242.json',\n 'PMUL2027.json',\n 'MUL1956.json',\n 'MUL2141.json',\n 'MUL1701.json',\n 'MUL1938.json',\n 'MUL1595.json',\n 'PMUL2752.json',\n 'MUL1193.json',\n 'WOZ20198.json',\n 'SNG01555.json',\n 'PMUL4263.json',\n 'PMUL4139.json',\n 'PMUL3846.json',\n 'PMUL4668.json',\n 'SNG1265.json',\n 'WOZ20157.json',\n 'WOZ20141.json',\n 'SNG01521.json',\n 'PMUL4389.json',\n 'WOZ20480.json',\n 'WOZ20128.json',\n 'MUL0127.json',\n 'PMUL4801.json',\n 'PMUL1483.json',\n 'MUL1239.json',\n 'MUL0604.json',\n 'PMUL4408.json',\n 'MUL1966.json',\n 'PMUL2035.json',\n 'PMUL4699.json',\n 'PMUL0280.json',\n 'SNG0356.json',\n 'MUL1344.json',\n 'PMUL2378.json',\n 'PMUL2493.json',\n 'MUL1592.json',\n 'SNG0747.json',\n 'MUL0335.json',\n 'MUL1320.json',\n 'PMUL3140.json',\n 'SNG01389.json',\n 'PMUL1192.json',\n 'PMUL2538.json',\n 'PMUL3038.json',\n 'WOZ20434.json',\n 'PMUL3081.json',\n 'MUL2453.json',\n 'PMUL4079.json',\n 'PMUL2588.json',\n 'MUL2285.json',\n 'MUL0069.json',\n 'SNG01549.json',\n 'MUL1949.json',\n 'SSNG0287.json',\n 'MUL0953.json',\n 'SNG0656.json',\n 'SNG0621.json',\n 'MUL0747.json',\n 'SNG02243.json',\n 'PMUL4094.json',\n 'MUL0972.json',\n 'SNG1038.json',\n 'PMUL4910.json',\n 'MUL1138.json',\n 'MUL2028.json',\n 'SNG01821.json',\n 'PMUL3565.json',\n 'MUL2266.json',\n 'MUL2246.json',\n 'MUL0611.json',\n 'PMUL1196.json',\n 'SNG1384.json',\n 'PMUL3593.json',\n 'PMUL4783.json',\n 'PMUL4718.json',\n 'MUL2469.json',\n 'MUL1997.json',\n 'PMUL2066.json',\n 'WOZ20387.json',\n 'MUL1143.json',\n 'PMUL4283.json',\n 'PMUL4115.json',\n 'MUL1157.json',\n 'MUL2498.json',\n 'MUL1605.json',\n 'PMUL3760.json',\n 'PMUL2401.json',\n 'PMUL3232.json',\n 'MUL2343.json',\n 'PMUL1827.json',\n 'PMUL2979.json',\n 'SNG0682.json',\n 'MUL0104.json',\n 'PMUL3047.json',\n 'PMUL4099.json',\n 'SSNG0071.json',\n 'PMUL0035.json',\n 'SNG01176.json',\n 'PMUL3001.json',\n 'SNG01675.json',\n 'SNG01574.json',\n 'PMUL2091.json',\n 'PMUL1859.json',\n 'PMUL3601.json',\n 'PMUL2218.json',\n 'PMUL0673.json',\n 'PMUL2801.json',\n 'SNG1256.json',\n 'SNG0746.json',\n 'PMUL3561.json',\n 'PMUL0934.json',\n 'MUL1930.json',\n 'SSNG0107.json',\n 'MUL2110.json',\n 'MUL2692.json',\n 'PMUL4722.json',\n 'MUL2430.json',\n 'MUL0455.json',\n 'MUL0240.json',\n 'MUL0019.json',\n 'SNG01843.json',\n 'PMUL0533.json',\n 'PMUL0135.json',\n 'WOZ20296.json',\n 'SNG0706.json',\n 'MUL0336.json',\n 'MUL2247.json',\n 'SNG01344.json',\n 'SNG0217.json',\n 'PMUL0770.json',\n 'SNG01707.json',\n 'PMUL2817.json',\n 'SNG02325.json',\n 'SSNG0240.json',\n 'PMUL3581.json',\n 'PMUL1304.json',\n 'MUL1470.json',\n 'MUL0400.json',\n 'SNG1373.json',\n 'SSNG0164.json',\n 'SNG0926.json',\n 'MUL1760.json',\n 'WOZ20385.json',\n 'PMUL3113.json',\n 'WOZ20007.json',\n 'PMUL3838.json',\n 'MUL0658.json',\n 'MUL0666.json',\n 'SNG02053.json',\n 'PMUL4947.json',\n 'MUL0591.json',\n 'MUL0852.json',\n 'SNG1031.json',\n 'SNG1156.json',\n 'MUL0563.json',\n 'WOZ20109.json',\n 'PMUL3738.json',\n 'PMUL3351.json',\n 'SNG1326.json',\n 'SNG0110.json',\n 'SNG01287.json',\n 'WOZ20536.json',\n 'WOZ20340.json',\n 'WOZ20175.json',\n 'PMUL4256.json',\n 'SNG0142.json',\n 'SNG0211.json',\n 'PMUL4808.json',\n 'SNG0712.json',\n 'SNG0137.json',\n 'PMUL4494.json',\n 'MUL2522.json',\n 'MUL0660.json',\n 'WOZ20064.json',\n 'SNG01969.json',\n 'SNG01550.json',\n 'MUL2226.json',\n 'PMUL4422.json',\n 'MUL1667.json',\n 'WOZ20554.json',\n 'PMUL1171.json',\n 'PMUL0980.json',\n 'PMUL4257.json',\n 'MUL1668.json',\n 'PMUL0347.json',\n 'SNG01375.json',\n 'SNG02120.json',\n 'PMUL1176.json',\n 'PMUL4228.json',\n 'SNG0203.json',\n 'SNG1058.json',\n 'SNG02020.json',\n 'PMUL3269.json',\n 'MUL1340.json',\n 'PMUL1495.json',\n 'PMUL4799.json',\n 'PMUL1049.json',\n 'SNG0773.json',\n 'PMUL1805.json',\n 'SSNG0243.json',\n 'PMUL4088.json',\n 'MUL1432.json',\n 'MUL2553.json',\n 'MUL1613.json',\n 'SSNG0134.json',\n 'MUL2564.json',\n 'SNG02157.json',\n 'MUL0984.json',\n 'PMUL4540.json',\n 'SNG0850.json',\n 'PMUL2592.json',\n 'PMUL0252.json',\n 'MUL2233.json',\n 'PMUL4638.json',\n 'MUL1107.json',\n 'SNG02241.json',\n 'SNG01606.json',\n 'MUL0763.json',\n 'PMUL3346.json',\n 'MUL0057.json',\n 'SNG1237.json',\n 'PMUL4168.json',\n 'PMUL4696.json',\n 'MUL1190.json',\n 'MUL1238.json',\n 'WOZ20525.json',\n 'SSNG0350.json',\n 'MUL1097.json',\n 'WOZ20166.json',\n 'PMUL0200.json',\n 'SNG01894.json',\n 'PMUL2893.json',\n 'MUL0257.json',\n 'SNG1213.json',\n 'SNG02093.json',\n 'PMUL2697.json',\n 'MUL1144.json',\n 'MUL1119.json',\n 'WOZ20264.json',\n 'PMUL0640.json',\n 'MUL1611.json',\n 'PMUL1236.json',\n 'PMUL3292.json',\n 'MUL2624.json',\n 'PMUL1856.json',\n 'MUL1242.json',\n 'SNG0693.json',\n 'PMUL4415.json',\n 'SNG01248.json',\n 'SNG0512.json',\n 'PMUL0931.json',\n 'SNG0598.json',\n 'PMUL4951.json',\n 'PMUL3005.json',\n 'WOZ20250.json',\n 'MUL1593.json',\n 'WOZ20598.json',\n 'SNG0955.json',\n 'SNG01645.json',\n 'SNG02058.json',\n 'WOZ20662.json',\n 'SSNG0006.json',\n 'MUL1402.json',\n 'WOZ20530.json',\n 'PMUL2206.json',\n 'MUL1224.json',\n 'PMUL4396.json',\n 'PMUL1868.json',\n 'SNG1243.json',\n 'SNG01854.json',\n 'MUL1944.json',\n 'WOZ20548.json',\n 'MUL1427.json',\n 'SNG0526.json',\n 'PMUL1031.json',\n 'PMUL2487.json',\n 'MUL0413.json',\n 'PMUL1356.json',\n 'MUL0924.json',\n 'PMUL1160.json',\n 'MUL2165.json',\n 'PMUL1638.json',\n 'MUL2245.json',\n 'SNG01938.json',\n 'MUL1296.json',\n 'SNG02085.json',\n 'MUL1261.json',\n 'MUL1046.json',\n 'PMUL3854.json',\n 'SNG01421.json',\n 'SNG1305.json',\n 'SNG0861.json',\n 'WOZ20013.json',\n 'PMUL3116.json',\n 'PMUL4412.json',\n 'PMUL3432.json',\n 'MUL1145.json',\n 'SNG01378.json',\n 'SNG01276.json',\n 'PMUL3172.json',\n 'PMUL3988.json',\n 'MUL0288.json',\n 'PMUL1027.json',\n 'WOZ20106.json',\n 'PMUL4448.json',\n 'SNG01954.json',\n 'SSNG0008.json',\n 'PMUL3640.json',\n 'PMUL1167.json',\n 'SNG02010.json',\n 'SNG1068.json',\n 'PMUL0270.json',\n 'SNG02163.json',\n 'PMUL3359.json',\n 'PMUL0819.json',\n 'PMUL4879.json',\n 'SNG01908.json',\n 'PMUL4475.json',\n 'PMUL1179.json',\n 'SNG02164.json',\n 'PMUL3595.json',\n 'SNG01799.json',\n 'SSNG0105.json',\n 'SNG01863.json',\n 'SSNG0241.json',\n 'PMUL4925.json',\n 'WOZ20613.json',\n 'PMUL3973.json',\n 'PMUL3592.json',\n 'PMUL0913.json',\n 'SSNG0122.json',\n 'SNG01646.json',\n 'PMUL0041.json',\n 'MUL1081.json',\n 'PMUL3870.json',\n 'PMUL1367.json',\n 'PMUL1510.json',\n 'SNG02290.json',\n 'SNG0094.json',\n 'MUL2303.json',\n 'MUL0552.json',\n 'MUL2530.json',\n 'WOZ20206.json',\n 'PMUL1608.json',\n 'PMUL3416.json',\n 'MUL1816.json',\n 'PMUL2603.json',\n 'SNG01528.json',\n 'SNG02127.json',\n 'WOZ20586.json',\n 'SNG01591.json',\n 'MUL1348.json',\n 'PMUL2374.json',\n 'MUL1053.json',\n 'MUL1705.json',\n 'WOZ20494.json',\n 'MUL0393.json',\n 'SNG01216.json',\n 'WOZ20005.json',\n 'PMUL4506.json',\n 'PMUL1161.json',\n 'PMUL1447.json',\n 'PMUL1666.json',\n 'SNG1240.json',\n 'PMUL4985.json',\n 'PMUL3138.json',\n 'WOZ20022.json',\n 'MUL2109.json',\n 'SNG01810.json',\n 'SNG1308.json',\n 'PMUL2340.json',\n 'MUL1374.json',\n 'PMUL0741.json',\n 'PMUL4435.json',\n 'PMUL2772.json',\n 'SNG1109.json',\n 'PMUL2200.json',\n 'MUL0435.json',\n 'SNG1289.json',\n 'SNG0821.json',\n 'PMUL2430.json',\n 'PMUL4066.json',\n 'PMUL2875.json',\n 'PMUL2278.json',\n 'SNG1309.json',\n 'SNG01524.json',\n 'PMUL0513.json',\n 'SNG1272.json',\n 'PMUL3508.json',\n 'SNG01975.json',\n 'PMUL4173.json',\n 'PMUL0430.json',\n 'SNG0844.json',\n 'SNG0820.json',\n 'SNG02223.json',\n 'SNG01952.json',\n 'MUL2454.json',\n 'PMUL4254.json',\n 'WOZ20108.json',\n 'PMUL1494.json',\n 'PMUL4499.json',\n 'SNG02126.json',\n 'MUL0421.json',\n 'PMUL4815.json',\n 'SNG0981.json',\n 'SNG01902.json',\n 'SNG01511.json',\n 'PMUL0718.json',\n 'PMUL4477.json',\n 'SNG0980.json',\n 'PMUL4747.json',\n 'PMUL1428.json',\n 'SNG1376.json',\n 'MUL2662.json',\n 'PMUL1890.json',\n 'MUL0152.json',\n 'PMUL1445.json',\n 'SSNG0078.json',\n 'PMUL1295.json',\n 'PMUL3863.json',\n 'PMUL0193.json',\n 'SSNG0100.json',\n 'PMUL3096.json',\n 'MUL0077.json',\n 'MUL1946.json',\n 'WOZ20490.json',\n 'PMUL1246.json',\n 'PMUL1202.json',\n 'SNG0401.json',\n 'MUL1614.json',\n 'SNG0286.json',\n 'SSNG0351.json',\n 'MUL0592.json',\n 'PMUL3965.json',\n 'WOZ20509.json',\n 'PMUL3377.json',\n 'MUL2552.json',\n 'PMUL1904.json',\n 'SNG01802.json',\n 'WOZ20439.json',\n 'MUL0387.json',\n 'SNG01868.json',\n 'PMUL3124.json',\n 'MUL2536.json',\n 'PMUL3179.json',\n 'PMUL1480.json',\n 'PMUL0376.json',\n 'MUL0556.json',\n 'MUL1731.json',\n 'MUL1523.json',\n 'MUL2619.json',\n 'PMUL0525.json',\n 'PMUL1724.json',\n 'PMUL1682.json',\n 'SNG02313.json',\n 'SSNG0257.json',\n 'SNG1360.json',\n 'WOZ20034.json',\n 'WOZ20178.json',\n 'PMUL2982.json',\n 'MUL0048.json',\n 'WOZ20000.json',\n 'MUL1147.json',\n 'MUL0897.json',\n 'PMUL4601.json',\n 'MUL0792.json',\n 'SNG01964.json',\n 'PMUL3995.json',\n 'PMUL3531.json',\n 'SNG02080.json',\n 'SNG0796.json',\n 'MUL0084.json',\n 'MUL2134.json',\n 'WOZ20251.json',\n 'MUL1716.json',\n 'MUL0581.json',\n 'SSNG0119.json',\n 'MUL1684.json',\n 'PMUL0540.json',\n 'MUL2140.json',\n 'SSNG0130.json',\n 'SNG02284.json',\n 'PMUL1577.json',\n 'MUL1535.json',\n 'MUL2029.json',\n 'MUL0273.json',\n 'PMUL3524.json',\n 'PMUL2007.json',\n 'SNG01691.json',\n 'PMUL0538.json',\n 'SNG0738.json',\n 'SNG0269.json',\n 'SNG0166.json',\n 'SNG0836.json',\n 'PMUL0537.json',\n 'PMUL3770.json',\n 'SSNG0079.json',\n 'PMUL3998.json',\n 'PMUL4824.json',\n 'SNG0165.json',\n 'PMUL0329.json',\n 'SNG1380.json',\n 'MUL1754.json',\n 'SNG01493.json',\n 'SNG01379.json',\n 'PMUL4345.json',\n 'WOZ20019.json',\n 'PMUL3412.json',\n 'SNG0702.json',\n 'MUL0189.json',\n 'PMUL3871.json',\n 'PMUL1339.json',\n 'WOZ20030.json',\n 'PMUL0034.json',\n 'SNG0015.json',\n 'WOZ20648.json',\n 'MUL2401.json',\n 'MUL0105.json',\n 'MUL2548.json',\n 'MUL2250.json',\n 'PMUL4878.json',\n 'MUL1786.json',\n 'PMUL0801.json',\n 'SNG0383.json',\n 'MUL2163.json',\n 'PMUL4549.json',\n 'MUL2043.json',\n 'PMUL2180.json',\n 'WOZ20179.json',\n 'PMUL2277.json',\n 'SNG02003.json',\n 'PMUL1639.json',\n 'MUL2164.json',\n 'MUL1747.json',\n 'PMUL3642.json',\n 'SNG02017.json',\n 'WOZ20617.json',\n 'SNG0624.json',\n 'PMUL1590.json',\n 'SSNG0091.json',\n 'PMUL1166.json',\n 'SNG0043.json',\n 'PMUL1922.json',\n 'SNG1335.json',\n 'PMUL0222.json',\n 'SNG01347.json',\n 'MUL1069.json',\n 'SNG02232.json',\n 'PMUL2673.json',\n 'PMUL4960.json',\n 'PMUL4715.json',\n 'MUL2447.json',\n 'SNG1022.json',\n 'PMUL4328.json',\n 'MUL0867.json',\n 'PMUL0627.json',\n 'PMUL0756.json',\n 'SSNG0258.json',\n 'MUL2462.json',\n 'PMUL4774.json',\n 'MUL0026.json',\n 'SNG1001.json',\n 'SNG02124.json',\n 'PMUL1446.json',\n 'SNG01765.json',\n 'MUL0029.json',\n 'PMUL4474.json',\n 'MUL0511.json',\n 'WOZ20012.json',\n 'SNG0181.json',\n 'PMUL2595.json',\n 'PMUL4798.json',\n 'MUL1375.json',\n 'PMUL2341.json',\n 'PMUL1660.json',\n 'MUL0366.json',\n 'SNG0202.json',\n 'MUL2279.json',\n 'SSNG0087.json',\n 'SSNG0025.json',\n 'SNG01991.json',\n 'MUL1915.json',\n 'WOZ20487.json',\n 'PMUL1785.json',\n 'SNG02206.json',\n 'SNG0266.json',\n 'MUL2562.json',\n 'PMUL2865.json',\n 'SNG1166.json',\n 'WOZ20501.json',\n 'SNG01535.json',\n 'PMUL1823.json',\n 'PMUL2940.json',\n 'SNG0760.json',\n 'PMUL2589.json',\n 'MUL0132.json',\n 'PMUL3830.json',\n 'WOZ20486.json',\n 'SNG01636.json',\n 'MUL2501.json',\n 'PMUL1783.json',\n 'MUL1321.json',\n 'MUL1792.json',\n 'PMUL3869.json',\n 'PMUL1999.json',\n 'SSNG0177.json',\n 'SNG0023.json',\n 'WOZ20513.json',\n 'SNG1341.json',\n 'MUL1805.json',\n 'SSNG0165.json',\n 'PMUL0327.json',\n 'MUL1197.json',\n 'MUL1343.json',\n 'PMUL1669.json',\n 'PMUL4531.json',\n 'WOZ20594.json',\n 'PMUL4267.json',\n 'PMUL1174.json',\n 'SSNG0067.json',\n 'PMUL4171.json',\n 'SNG1057.json',\n 'PMUL1605.json',\n 'MUL2046.json',\n 'PMUL1701.json',\n 'PMUL1542.json',\n 'SNG0450.json',\n 'MUL1246.json',\n 'MUL1169.json',\n 'WOZ20447.json',\n 'PMUL1297.json',\n 'SNG1100.json',\n 'MUL1461.json',\n 'PMUL1545.json',\n 'SNG1092.json',\n 'WOZ20077.json',\n 'SSNG0083.json',\n ...]"
     },
     "execution_count": 17,
     "metadata": {},
     "output_type": "execute_result"
    }
   ],
   "source": [
    "# 순서유지하면서, 중복제거\n",
    "from collections import OrderedDict\n",
    "dialog_id=list(OrderedDict.fromkeys(multiwoz_update['# Dialogue ID']))\n",
    "dialog_id"
   ]
  },
  {
   "cell_type": "code",
   "execution_count": 12,
   "metadata": {},
   "outputs": [
    {
     "data": {
      "text/plain": "attraction-area                 none\nattraction-name                 none\nattraction-type                 none\nbus-day                         none\nbus-departure                   none\n                                ... \ntrain-day-transition               0\ntrain-departure-transition         0\ntrain-destination-transition       0\ntrain-leave at-transition          0\nUnnamed: 74                      NaN\nName: 4, Length: 71, dtype: object"
     },
     "execution_count": 12,
     "metadata": {},
     "output_type": "execute_result"
    }
   ],
   "source": [
    "multiwoz_update.iloc[4,4:]"
   ]
  },
  {
   "cell_type": "markdown",
   "metadata": {},
   "source": [
    "## 결론 : none이 아닌 value를 가지는 슬롯은 transition 값을 1로, 가지지 않는다면 0으로\n"
   ]
  },
  {
   "cell_type": "code",
   "execution_count": null,
   "metadata": {},
   "outputs": [],
   "source": []
  }
 ],
 "metadata": {
  "kernelspec": {
   "display_name": "Python 3.7.7 64-bit ('base': conda)",
   "name": "python377jvsc74a57bd098b0a9b7b4eaaa670588a142fd0a9b87eaafe866f1db4228be72b4211d12040f"
  },
  "language_info": {
   "codemirror_mode": {
    "name": "ipython",
    "version": 3
   },
   "file_extension": ".py",
   "mimetype": "text/x-python",
   "name": "python",
   "nbconvert_exporter": "python",
   "pygments_lexer": "ipython3",
   "version": "3.7.7"
  },
  "orig_nbformat": 2
 },
 "nbformat": 4,
 "nbformat_minor": 2
}