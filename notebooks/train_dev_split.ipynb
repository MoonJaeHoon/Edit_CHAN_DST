{
 "cells": [
  {
   "cell_type": "code",
   "execution_count": 1,
   "metadata": {},
   "outputs": [],
   "source": [
    "import numpy as np\n",
    "import random\n",
    "import pandas as pd"
   ]
  },
  {
   "cell_type": "code",
   "execution_count": 2,
   "metadata": {},
   "outputs": [],
   "source": [
    "wos_train = pd.read_csv(\"/opt/CHAN-DST/data/multiwos/ra_train.tsv\",sep='\\t')\n",
    "wos_test = pd.read_csv(\"/opt/CHAN-DST/data/multiwos/ra_test.tsv\",sep='\\t')\n",
    "woz2_train = pd.read_csv(\"/opt/CHAN-DST/data/multiwoz/train.tsv\",sep='\\t')\n",
    "woz2_dev = pd.read_csv(\"/opt/CHAN-DST/data/multiwoz/dev.tsv\",sep='\\t')\n",
    "woz2_test = pd.read_csv(\"/opt/CHAN-DST/data/multiwoz/test.tsv\",sep='\\t')"
   ]
  },
  {
   "cell_type": "code",
   "execution_count": 3,
   "metadata": {},
   "outputs": [
    {
     "name": "stdout",
     "output_type": "stream",
     "text": [
      "Index(['# Dialogue ID', 'Turn Index', 'Last Turn', 'System Response'], dtype='object')\n",
      "Index(['# Dialogue ID', 'Turn Index', 'User Utterance', 'System Response'], dtype='object')\n"
     ]
    }
   ],
   "source": [
    "print(wos_train.columns[:4])\n",
    "print(woz2_train.columns[:4])"
   ]
  },
  {
   "cell_type": "code",
   "execution_count": 4,
   "metadata": {},
   "outputs": [],
   "source": [
    "new_wos_train = wos_train.drop(['Last Turn'],axis=1)\n",
    "new_wos_test = wos_test.drop(['Last Turn'],axis=1)"
   ]
  },
  {
   "cell_type": "code",
   "execution_count": 5,
   "metadata": {},
   "outputs": [
    {
     "name": "stdout",
     "output_type": "stream",
     "text": [
      "Index(['# Dialogue ID', 'Turn Index', 'System Response', 'User Utterance'], dtype='object')\n",
      "Index(['# Dialogue ID', 'Turn Index', 'User Utterance', 'System Response'], dtype='object')\n"
     ]
    }
   ],
   "source": [
    "print(new_wos_train.columns[:4])\n",
    "print(woz2_train.columns[:4])"
   ]
  },
  {
   "cell_type": "code",
   "execution_count": 6,
   "metadata": {},
   "outputs": [
    {
     "name": "stdout",
     "output_type": "stream",
     "text": [
      "['# Dialogue ID', 'Turn Index', 'User Utterance', 'System Response']\n"
     ]
    }
   ],
   "source": [
    "new_ordered_columns = new_wos_train.columns.tolist()\n",
    "new_ordered_columns.pop(2)\n",
    "new_ordered_columns.insert(3,'System Response')\n",
    "print(new_ordered_columns[:4])"
   ]
  },
  {
   "cell_type": "code",
   "execution_count": 7,
   "metadata": {},
   "outputs": [],
   "source": [
    "new_wos_train = new_wos_train[new_ordered_columns]\n",
    "new_wos_test = new_wos_test[new_ordered_columns]\n",
    "\n",
    "new_wos_train.to_csv('/opt/CHAN-DST/data/multiwos/origin_train.tsv', index=False, header=True, sep=\"\\t\")\n",
    "new_wos_test.to_csv('/opt/CHAN-DST/data/multiwos/test.tsv', index=False, header=True, sep=\"\\t\")\n"
   ]
  },
  {
   "cell_type": "markdown",
   "metadata": {},
   "source": [
    "## train을 train과 dev로 나누기"
   ]
  },
  {
   "cell_type": "code",
   "execution_count": 8,
   "metadata": {},
   "outputs": [
    {
     "data": {
      "text/html": "<div>\n<style scoped>\n    .dataframe tbody tr th:only-of-type {\n        vertical-align: middle;\n    }\n\n    .dataframe tbody tr th {\n        vertical-align: top;\n    }\n\n    .dataframe thead th {\n        text-align: right;\n    }\n</style>\n<table border=\"1\" class=\"dataframe\">\n  <thead>\n    <tr style=\"text-align: right;\">\n      <th></th>\n      <th># Dialogue ID</th>\n      <th>Turn Index</th>\n      <th>User Utterance</th>\n      <th>System Response</th>\n      <th>관광-경치 좋은</th>\n      <th>관광-교육적</th>\n      <th>관광-도보 가능</th>\n      <th>관광-문화 예술</th>\n      <th>관광-역사적</th>\n      <th>관광-이름</th>\n      <th>...</th>\n      <th>식당-지역</th>\n      <th>식당-흡연 가능</th>\n      <th>지하철-도착지</th>\n      <th>지하철-출발 시간</th>\n      <th>지하철-출발지</th>\n      <th>택시-도착 시간</th>\n      <th>택시-도착지</th>\n      <th>택시-종류</th>\n      <th>택시-출발 시간</th>\n      <th>택시-출발지</th>\n    </tr>\n  </thead>\n  <tbody>\n    <tr>\n      <th>0</th>\n      <td>snowy-hat-8324:관광_식당_11</td>\n      <td>0</td>\n      <td>서울 중앙에 있는 박물관을 찾아주세요</td>\n      <td>NaN</td>\n      <td>none</td>\n      <td>none</td>\n      <td>none</td>\n      <td>none</td>\n      <td>none</td>\n      <td>none</td>\n      <td>...</td>\n      <td>none</td>\n      <td>none</td>\n      <td>none</td>\n      <td>none</td>\n      <td>none</td>\n      <td>none</td>\n      <td>none</td>\n      <td>none</td>\n      <td>none</td>\n      <td>none</td>\n    </tr>\n    <tr>\n      <th>1</th>\n      <td>snowy-hat-8324:관광_식당_11</td>\n      <td>1</td>\n      <td>좋네요 거기 평점은 말해주셨구 전화번호가 어떻게되나요?</td>\n      <td>안녕하세요. 문화역서울 284은 어떠신가요? 평점도 4점으로 방문객들에게 좋은 평가...</td>\n      <td>none</td>\n      <td>none</td>\n      <td>none</td>\n      <td>none</td>\n      <td>none</td>\n      <td>문화역서울 284</td>\n      <td>...</td>\n      <td>none</td>\n      <td>none</td>\n      <td>none</td>\n      <td>none</td>\n      <td>none</td>\n      <td>none</td>\n      <td>none</td>\n      <td>none</td>\n      <td>none</td>\n      <td>none</td>\n    </tr>\n    <tr>\n      <th>2</th>\n      <td>snowy-hat-8324:관광_식당_11</td>\n      <td>2</td>\n      <td>네 관광지와 같은 지역의 한식당을 가고싶은데요 야외석이 있어야되요</td>\n      <td>전화번호는 983880764입니다. 더 필요하신 게 있으실까요?</td>\n      <td>none</td>\n      <td>none</td>\n      <td>none</td>\n      <td>none</td>\n      <td>none</td>\n      <td>문화역서울 284</td>\n      <td>...</td>\n      <td>서울 중앙</td>\n      <td>none</td>\n      <td>none</td>\n      <td>none</td>\n      <td>none</td>\n      <td>none</td>\n      <td>none</td>\n      <td>none</td>\n      <td>none</td>\n      <td>none</td>\n    </tr>\n  </tbody>\n</table>\n<p>3 rows × 49 columns</p>\n</div>",
      "text/plain": "             # Dialogue ID  Turn Index                        User Utterance  \\\n0  snowy-hat-8324:관광_식당_11           0                  서울 중앙에 있는 박물관을 찾아주세요   \n1  snowy-hat-8324:관광_식당_11           1        좋네요 거기 평점은 말해주셨구 전화번호가 어떻게되나요?   \n2  snowy-hat-8324:관광_식당_11           2  네 관광지와 같은 지역의 한식당을 가고싶은데요 야외석이 있어야되요   \n\n                                     System Response 관광-경치 좋은 관광-교육적 관광-도보 가능  \\\n0                                                NaN     none   none     none   \n1  안녕하세요. 문화역서울 284은 어떠신가요? 평점도 4점으로 방문객들에게 좋은 평가...     none   none     none   \n2                전화번호는 983880764입니다. 더 필요하신 게 있으실까요?     none   none     none   \n\n  관광-문화 예술 관광-역사적      관광-이름  ...  식당-지역 식당-흡연 가능 지하철-도착지 지하철-출발 시간 지하철-출발지  \\\n0     none   none       none  ...   none     none    none      none    none   \n1     none   none  문화역서울 284  ...   none     none    none      none    none   \n2     none   none  문화역서울 284  ...  서울 중앙     none    none      none    none   \n\n  택시-도착 시간 택시-도착지 택시-종류 택시-출발 시간 택시-출발지  \n0     none   none  none     none   none  \n1     none   none  none     none   none  \n2     none   none  none     none   none  \n\n[3 rows x 49 columns]"
     },
     "execution_count": 8,
     "metadata": {},
     "output_type": "execute_result"
    }
   ],
   "source": [
    "wos_train = pd.read_csv('/opt/CHAN-DST/data/multiwos/origin_train.tsv', header=0, sep=\"\\t\")\n",
    "wos_test = pd.read_csv('/opt/CHAN-DST/data/multiwos/test.tsv', header=0, sep=\"\\t\")\n",
    "wos_train.head(3)"
   ]
  },
  {
   "cell_type": "code",
   "execution_count": 9,
   "metadata": {},
   "outputs": [
    {
     "name": "stdout",
     "output_type": "stream",
     "text": [
      "6300\n",
      "700\n"
     ]
    }
   ],
   "source": [
    "import re\n",
    "def extract_domain(x):\n",
    "    pat = re.compile(rf'[:][가-힣_]+')\n",
    "    s = re.search(pat,x).group()[1:-1]\n",
    "    return s\n",
    "\n",
    "# 순서유지하면서, 중복제거\n",
    "from collections import OrderedDict\n",
    "dialog_id=list(OrderedDict.fromkeys(wos_train['# Dialogue ID']))\n",
    "dialog_id = pd.DataFrame(dialog_id,columns=['dialog_id'])\n",
    "dialog_id['domain'] = dialog_id['dialog_id'].apply(extract_domain)\n",
    "\n",
    "from sklearn.model_selection import StratifiedShuffleSplit\n",
    "\n",
    "SSSplit = StratifiedShuffleSplit(n_splits=1, test_size=0.1, random_state=42)\n",
    "for train_idx, dev_idx in SSSplit.split(dialog_id, dialog_id['domain']):\n",
    "    train_dialog_id = dialog_id['dialog_id'][train_idx]\n",
    "    dev_dialog_id = dialog_id['dialog_id'][dev_idx]\n",
    "print(len(train_dialog_id))\n",
    "print(len(dev_dialog_id))"
   ]
  },
  {
   "cell_type": "code",
   "execution_count": 10,
   "metadata": {},
   "outputs": [
    {
     "name": "stderr",
     "output_type": "stream",
     "text": [
      "100%|██████████| 6300/6300 [03:14<00:00, 32.43it/s]\n",
      "  3%|▎         | 20/700 [00:00<00:03, 194.17it/s]"
     ]
    },
    {
     "name": "stdout",
     "output_type": "stream",
     "text": [
      "(52375, 49)\n"
     ]
    },
    {
     "name": "stderr",
     "output_type": "stream",
     "text": [
      "100%|██████████| 700/700 [00:04<00:00, 144.25it/s]"
     ]
    },
    {
     "name": "stdout",
     "output_type": "stream",
     "text": [
      "(5870, 49)\n",
      "==============================\n",
      "58245\n",
      "58245\n"
     ]
    },
    {
     "name": "stderr",
     "output_type": "stream",
     "text": [
      "\n"
     ]
    }
   ],
   "source": [
    "from tqdm import tqdm\n",
    "train=pd.DataFrame(columns=wos_train.columns)\n",
    "for dialog_id in tqdm(list(train_dialog_id)):\n",
    "    train=pd.concat([train,wos_train.loc[wos_train['# Dialogue ID']==dialog_id]],axis=0)\n",
    "train.index=range(train.shape[0])\n",
    "print(train.shape)\n",
    "\n",
    "dev=pd.DataFrame(columns=wos_train.columns)\n",
    "for dialog_id in tqdm(list(dev_dialog_id)):\n",
    "    dev=pd.concat([dev,wos_train.loc[wos_train['# Dialogue ID']==dialog_id]],axis=0)\n",
    "dev.index=range(dev.shape[0])\n",
    "print(dev.shape)\n",
    "print('='*30)\n",
    "print(train.shape[0]+dev.shape[0])\n",
    "print(wos_train.shape[0])"
   ]
  },
  {
   "cell_type": "code",
   "execution_count": 11,
   "metadata": {},
   "outputs": [],
   "source": [
    "train['# Dialogue ID'] = train['# Dialogue ID'].apply(lambda x: x.replace('-','_'))\n",
    "dev['# Dialogue ID'] = dev['# Dialogue ID'].apply(lambda x: x.replace('-','_'))\n",
    "wos_test['# Dialogue ID'] = wos_test['# Dialogue ID'].apply(lambda x: x.replace('-','_'))"
   ]
  },
  {
   "cell_type": "code",
   "execution_count": 15,
   "metadata": {},
   "outputs": [],
   "source": [
    "train.to_csv('/opt/CHAN-DST/data/multiwos/train.tsv', index=False, header=True, sep=\"\\t\")\n",
    "dev.to_csv('/opt/CHAN-DST/data/multiwos/dev.tsv', index=False, header=True, sep=\"\\t\")\n",
    "wos_test.to_csv('/opt/CHAN-DST/data/multiwos/test.tsv', index=False, header=True, sep=\"\\t\")"
   ]
  },
  {
   "cell_type": "code",
   "execution_count": 10,
   "metadata": {},
   "outputs": [
    {
     "data": {
      "text/html": "<div>\n<style scoped>\n    .dataframe tbody tr th:only-of-type {\n        vertical-align: middle;\n    }\n\n    .dataframe tbody tr th {\n        vertical-align: top;\n    }\n\n    .dataframe thead th {\n        text-align: right;\n    }\n</style>\n<table border=\"1\" class=\"dataframe\">\n  <thead>\n    <tr style=\"text-align: right;\">\n      <th></th>\n      <th># Dialogue ID</th>\n      <th>Turn Index</th>\n      <th>User Utterance</th>\n      <th>System Response</th>\n      <th>관광-경치 좋은</th>\n      <th>관광-교육적</th>\n      <th>관광-도보 가능</th>\n      <th>관광-문화 예술</th>\n      <th>관광-역사적</th>\n      <th>관광-이름</th>\n      <th>...</th>\n      <th>식당-지역</th>\n      <th>식당-흡연 가능</th>\n      <th>지하철-도착지</th>\n      <th>지하철-출발 시간</th>\n      <th>지하철-출발지</th>\n      <th>택시-도착 시간</th>\n      <th>택시-도착지</th>\n      <th>택시-종류</th>\n      <th>택시-출발 시간</th>\n      <th>택시-출발지</th>\n    </tr>\n  </thead>\n  <tbody>\n    <tr>\n      <th>0</th>\n      <td>bold-resonance-6886:숙소_관광_식당_11</td>\n      <td>0</td>\n      <td>안녕하세요? 숙소를 예약하려고 하는데요. 일단 지역은 서울 안에만 있으면 될 것 같고요.</td>\n      <td>NaN</td>\n      <td>none</td>\n      <td>none</td>\n      <td>none</td>\n      <td>none</td>\n      <td>none</td>\n      <td>none</td>\n      <td>...</td>\n      <td>none</td>\n      <td>none</td>\n      <td>none</td>\n      <td>none</td>\n      <td>none</td>\n      <td>none</td>\n      <td>none</td>\n      <td>none</td>\n      <td>none</td>\n      <td>none</td>\n    </tr>\n    <tr>\n      <th>1</th>\n      <td>bold-resonance-6886:숙소_관광_식당_11</td>\n      <td>1</td>\n      <td>가격대와 종류 모두 지정하지 않고 예약하겠습니다.</td>\n      <td>안녕하세요. 네. 알겠습니다. 가격대와 종류는 어떻게 설정해드리면 될까요?</td>\n      <td>none</td>\n      <td>none</td>\n      <td>none</td>\n      <td>none</td>\n      <td>none</td>\n      <td>none</td>\n      <td>...</td>\n      <td>none</td>\n      <td>none</td>\n      <td>none</td>\n      <td>none</td>\n      <td>none</td>\n      <td>none</td>\n      <td>none</td>\n      <td>none</td>\n      <td>none</td>\n      <td>none</td>\n    </tr>\n    <tr>\n      <th>2</th>\n      <td>bold-resonance-6886:숙소_관광_식당_11</td>\n      <td>2</td>\n      <td>아 그래요? 그럼 적당한 가격대로 해주세요.</td>\n      <td>죄송합니다만 말씀하신 대로 예약시 정보의 양이 너무 광범위해서 검색이 되지 않습니다...</td>\n      <td>none</td>\n      <td>none</td>\n      <td>none</td>\n      <td>none</td>\n      <td>none</td>\n      <td>none</td>\n      <td>...</td>\n      <td>none</td>\n      <td>none</td>\n      <td>none</td>\n      <td>none</td>\n      <td>none</td>\n      <td>none</td>\n      <td>none</td>\n      <td>none</td>\n      <td>none</td>\n      <td>none</td>\n    </tr>\n    <tr>\n      <th>3</th>\n      <td>bold-resonance-6886:숙소_관광_식당_11</td>\n      <td>3</td>\n      <td>아 여기 괜찮네요. 그럼 여기로 월요일부터 1일간 5명으로 예약 부탁드립니다.</td>\n      <td>알겠습니다. 서울 강남구에 위치한 평점 4점의 패밀리 호텔이 이용 가능한걸로 확인됩니다.</td>\n      <td>none</td>\n      <td>none</td>\n      <td>none</td>\n      <td>none</td>\n      <td>none</td>\n      <td>none</td>\n      <td>...</td>\n      <td>none</td>\n      <td>none</td>\n      <td>none</td>\n      <td>none</td>\n      <td>none</td>\n      <td>none</td>\n      <td>none</td>\n      <td>none</td>\n      <td>none</td>\n      <td>none</td>\n    </tr>\n    <tr>\n      <th>4</th>\n      <td>bold-resonance-6886:숙소_관광_식당_11</td>\n      <td>4</td>\n      <td>저 그리고 주차가 되는 관광지도 방문해보고 싶은데요. 지역이나 종류 신경쓰지 마시고...</td>\n      <td>네. 바로 예약 도와드리겠습니다.</td>\n      <td>none</td>\n      <td>none</td>\n      <td>none</td>\n      <td>none</td>\n      <td>none</td>\n      <td>none</td>\n      <td>...</td>\n      <td>none</td>\n      <td>none</td>\n      <td>none</td>\n      <td>none</td>\n      <td>none</td>\n      <td>none</td>\n      <td>none</td>\n      <td>none</td>\n      <td>none</td>\n      <td>none</td>\n    </tr>\n    <tr>\n      <th>...</th>\n      <td>...</td>\n      <td>...</td>\n      <td>...</td>\n      <td>...</td>\n      <td>...</td>\n      <td>...</td>\n      <td>...</td>\n      <td>...</td>\n      <td>...</td>\n      <td>...</td>\n      <td>...</td>\n      <td>...</td>\n      <td>...</td>\n      <td>...</td>\n      <td>...</td>\n      <td>...</td>\n      <td>...</td>\n      <td>...</td>\n      <td>...</td>\n      <td>...</td>\n      <td>...</td>\n    </tr>\n    <tr>\n      <th>52370</th>\n      <td>crimson-mud-3023:관광_택시_12</td>\n      <td>2</td>\n      <td>음... 네 좋아요. 제가 차를 놓고 중간에 택시도 좀 타야되는데요, 한가한과에서 ...</td>\n      <td>여러 곳 확인됩니다. 경복궁역쪽에 국립 고궁 박물관은 어떠실까요?</td>\n      <td>none</td>\n      <td>none</td>\n      <td>none</td>\n      <td>none</td>\n      <td>none</td>\n      <td>국립 고궁 박물관</td>\n      <td>...</td>\n      <td>none</td>\n      <td>none</td>\n      <td>none</td>\n      <td>none</td>\n      <td>none</td>\n      <td>11:30</td>\n      <td>압구정역</td>\n      <td>none</td>\n      <td>22:15</td>\n      <td>한가한과</td>\n    </tr>\n    <tr>\n      <th>52371</th>\n      <td>crimson-mud-3023:관광_택시_12</td>\n      <td>3</td>\n      <td>아 그럼 도착시간만 넣을게요. 11시 반까지는 꼭 가야되서...</td>\n      <td>아 죄송하지만 출발시간과 도착시간 중 하나만 정해주시겠어요? 시스템상 두 곳을 다 ...</td>\n      <td>none</td>\n      <td>none</td>\n      <td>none</td>\n      <td>none</td>\n      <td>none</td>\n      <td>국립 고궁 박물관</td>\n      <td>...</td>\n      <td>none</td>\n      <td>none</td>\n      <td>none</td>\n      <td>none</td>\n      <td>none</td>\n      <td>11:30</td>\n      <td>압구정역</td>\n      <td>none</td>\n      <td>22:15</td>\n      <td>한가한과</td>\n    </tr>\n    <tr>\n      <th>52372</th>\n      <td>crimson-mud-3023:관광_택시_12</td>\n      <td>4</td>\n      <td>종류요? 네 딱히 생각안해봤어요.</td>\n      <td>택시 종류는 상관없으신거죠?</td>\n      <td>none</td>\n      <td>none</td>\n      <td>none</td>\n      <td>none</td>\n      <td>none</td>\n      <td>국립 고궁 박물관</td>\n      <td>...</td>\n      <td>none</td>\n      <td>none</td>\n      <td>none</td>\n      <td>none</td>\n      <td>none</td>\n      <td>11:30</td>\n      <td>압구정역</td>\n      <td>dontcare</td>\n      <td>dontcare</td>\n      <td>한가한과</td>\n    </tr>\n    <tr>\n      <th>52373</th>\n      <td>crimson-mud-3023:관광_택시_12</td>\n      <td>5</td>\n      <td>다 말씀해주셨어요. 감사합니다.</td>\n      <td>네 택시 확인됩니다. 한가한과에서 10시 45분에 출발하며 요금은 만원 예상됩니다....</td>\n      <td>none</td>\n      <td>none</td>\n      <td>none</td>\n      <td>none</td>\n      <td>none</td>\n      <td>국립 고궁 박물관</td>\n      <td>...</td>\n      <td>none</td>\n      <td>none</td>\n      <td>none</td>\n      <td>none</td>\n      <td>none</td>\n      <td>11:30</td>\n      <td>압구정역</td>\n      <td>dontcare</td>\n      <td>dontcare</td>\n      <td>한가한과</td>\n    </tr>\n    <tr>\n      <th>52374</th>\n      <td>crimson-mud-3023:관광_택시_12</td>\n      <td>6</td>\n      <td>NaN</td>\n      <td>네 이용해주셔서 감사합니다.</td>\n      <td>none</td>\n      <td>none</td>\n      <td>none</td>\n      <td>none</td>\n      <td>none</td>\n      <td>국립 고궁 박물관</td>\n      <td>...</td>\n      <td>none</td>\n      <td>none</td>\n      <td>none</td>\n      <td>none</td>\n      <td>none</td>\n      <td>11:30</td>\n      <td>압구정역</td>\n      <td>dontcare</td>\n      <td>dontcare</td>\n      <td>한가한과</td>\n    </tr>\n  </tbody>\n</table>\n<p>52375 rows × 49 columns</p>\n</div>",
      "text/plain": "                         # Dialogue ID  Turn Index  \\\n0      bold-resonance-6886:숙소_관광_식당_11           0   \n1      bold-resonance-6886:숙소_관광_식당_11           1   \n2      bold-resonance-6886:숙소_관광_식당_11           2   \n3      bold-resonance-6886:숙소_관광_식당_11           3   \n4      bold-resonance-6886:숙소_관광_식당_11           4   \n...                                ...         ...   \n52370        crimson-mud-3023:관광_택시_12           2   \n52371        crimson-mud-3023:관광_택시_12           3   \n52372        crimson-mud-3023:관광_택시_12           4   \n52373        crimson-mud-3023:관광_택시_12           5   \n52374        crimson-mud-3023:관광_택시_12           6   \n\n                                          User Utterance  \\\n0      안녕하세요? 숙소를 예약하려고 하는데요. 일단 지역은 서울 안에만 있으면 될 것 같고요.   \n1                            가격대와 종류 모두 지정하지 않고 예약하겠습니다.   \n2                              아 그래요? 그럼 적당한 가격대로 해주세요.    \n3            아 여기 괜찮네요. 그럼 여기로 월요일부터 1일간 5명으로 예약 부탁드립니다.   \n4      저 그리고 주차가 되는 관광지도 방문해보고 싶은데요. 지역이나 종류 신경쓰지 마시고...   \n...                                                  ...   \n52370  음... 네 좋아요. 제가 차를 놓고 중간에 택시도 좀 타야되는데요, 한가한과에서 ...   \n52371                아 그럼 도착시간만 넣을게요. 11시 반까지는 꼭 가야되서...   \n52372                                 종류요? 네 딱히 생각안해봤어요.   \n52373                                  다 말씀해주셨어요. 감사합니다.   \n52374                                                NaN   \n\n                                         System Response 관광-경치 좋은 관광-교육적  \\\n0                                                    NaN     none   none   \n1              안녕하세요. 네. 알겠습니다. 가격대와 종류는 어떻게 설정해드리면 될까요?     none   none   \n2      죄송합니다만 말씀하신 대로 예약시 정보의 양이 너무 광범위해서 검색이 되지 않습니다...     none   none   \n3      알겠습니다. 서울 강남구에 위치한 평점 4점의 패밀리 호텔이 이용 가능한걸로 확인됩니다.     none   none   \n4                                     네. 바로 예약 도와드리겠습니다.     none   none   \n...                                                  ...      ...    ...   \n52370              여러 곳 확인됩니다. 경복궁역쪽에 국립 고궁 박물관은 어떠실까요?      none   none   \n52371  아 죄송하지만 출발시간과 도착시간 중 하나만 정해주시겠어요? 시스템상 두 곳을 다 ...     none   none   \n52372                                    택시 종류는 상관없으신거죠?     none   none   \n52373  네 택시 확인됩니다. 한가한과에서 10시 45분에 출발하며 요금은 만원 예상됩니다....     none   none   \n52374                                    네 이용해주셔서 감사합니다.     none   none   \n\n      관광-도보 가능 관광-문화 예술 관광-역사적      관광-이름  ... 식당-지역 식당-흡연 가능 지하철-도착지  \\\n0         none     none   none       none  ...  none     none    none   \n1         none     none   none       none  ...  none     none    none   \n2         none     none   none       none  ...  none     none    none   \n3         none     none   none       none  ...  none     none    none   \n4         none     none   none       none  ...  none     none    none   \n...        ...      ...    ...        ...  ...   ...      ...     ...   \n52370     none     none   none  국립 고궁 박물관  ...  none     none    none   \n52371     none     none   none  국립 고궁 박물관  ...  none     none    none   \n52372     none     none   none  국립 고궁 박물관  ...  none     none    none   \n52373     none     none   none  국립 고궁 박물관  ...  none     none    none   \n52374     none     none   none  국립 고궁 박물관  ...  none     none    none   \n\n      지하철-출발 시간 지하철-출발지 택시-도착 시간 택시-도착지     택시-종류  택시-출발 시간 택시-출발지  \n0          none    none     none   none      none      none   none  \n1          none    none     none   none      none      none   none  \n2          none    none     none   none      none      none   none  \n3          none    none     none   none      none      none   none  \n4          none    none     none   none      none      none   none  \n...         ...     ...      ...    ...       ...       ...    ...  \n52370      none    none    11:30   압구정역      none     22:15   한가한과  \n52371      none    none    11:30   압구정역      none     22:15   한가한과  \n52372      none    none    11:30   압구정역  dontcare  dontcare   한가한과  \n52373      none    none    11:30   압구정역  dontcare  dontcare   한가한과  \n52374      none    none    11:30   압구정역  dontcare  dontcare   한가한과  \n\n[52375 rows x 49 columns]"
     },
     "execution_count": 10,
     "metadata": {},
     "output_type": "execute_result"
    }
   ],
   "source": [
    "train = pd.read_csv('/opt/CHAN-DST/data/multiwos/train.tsv', header=0, sep=\"\\t\")\n",
    "train"
   ]
  },
  {
   "cell_type": "code",
   "execution_count": 29,
   "metadata": {},
   "outputs": [
    {
     "name": "stdout",
     "output_type": "stream",
     "text": [
      "52375\n",
      "5870\n"
     ]
    }
   ],
   "source": [
    "train_bool_idx=wos_train['# Dialogue ID'].apply(lambda x: x in list(train_dialog_id))\n",
    "dev_bool_idx=wos_train['# Dialogue ID'].apply(lambda x: x in list(dev_dialog_id))\n",
    "print(sum(train_bool_idx))\n",
    "print(sum(dev_bool_idx))"
   ]
  },
  {
   "cell_type": "code",
   "execution_count": 19,
   "metadata": {},
   "outputs": [],
   "source": [
    "# def columns_to_domain(x):\n",
    "#     check_series = x.loc['관광-경치 좋은':'택시-출발지']\n",
    "#     return ','.join([c.split('-')[0] for c in check_series.index if check_series[c]!='none'])\n",
    "# wos_train['domains'] = wos_train.apply(columns_to_domain, axis=1)\n",
    "\n",
    "# def domain_union(x):\n",
    "#     return set(','.join(x.domains).split(','))\n",
    "# wos_train.groupby(['# Dialogue ID']).apply(domain_union)"
   ]
  }
 ],
 "metadata": {
  "kernelspec": {
   "display_name": "Python 3.7.7 64-bit ('base': conda)",
   "name": "python377jvsc74a57bd098b0a9b7b4eaaa670588a142fd0a9b87eaafe866f1db4228be72b4211d12040f"
  },
  "language_info": {
   "codemirror_mode": {
    "name": "ipython",
    "version": 3
   },
   "file_extension": ".py",
   "mimetype": "text/x-python",
   "name": "python",
   "nbconvert_exporter": "python",
   "pygments_lexer": "ipython3",
   "version": "3.7.7"
  },
  "orig_nbformat": 3
 },
 "nbformat": 4,
 "nbformat_minor": 2
}