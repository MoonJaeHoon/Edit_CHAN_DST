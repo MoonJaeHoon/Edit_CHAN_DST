{
 "cells": [
  {
   "cell_type": "code",
   "execution_count": 31,
   "metadata": {},
   "outputs": [
    {
     "name": "stdout",
     "output_type": "stream",
     "text": [
      "45\n"
     ]
    },
    {
     "data": {
      "text/plain": "'40:41:42:43:44'"
     },
     "execution_count": 31,
     "metadata": {},
     "output_type": "execute_result"
    }
   ],
   "source": [
    "import numpy as np\n",
    "import json\n",
    "wos_ontology = open(\"/opt/CHAN-DST/data/multiwos/ontology.json\", \"r\")\n",
    "wos_ontology = json.load(wos_ontology)\n",
    "wos_keys = wos_ontology.keys()\n",
    "print(len(wos_keys))\n",
    "wos_domain_keys = [k.split('-')[0] for k in wos_keys]\n",
    "import collections\n",
    "# collections.OrderedDict(sorted(wos_ontology.items()))\n",
    "\n",
    "# '관광', '숙소', '식당', '지하철', '택시'\n",
    "keyword='택시'\n",
    "find_idx_list=[]\n",
    "for idx, v in enumerate(wos_domain_keys):\n",
    "    if v==keyword:\n",
    "        find_idx_list.append(str(idx))\n",
    "':'.join(find_idx_list)"
   ]
  },
  {
   "cell_type": "code",
   "execution_count": 25,
   "metadata": {},
   "outputs": [
    {
     "name": "stdout",
     "output_type": "stream",
     "text": [
      "35\n"
     ]
    }
   ],
   "source": [
    "woz_ontology = open(\"/opt/CHAN-DST/data/multiwoz-update/ontology.json\", \"r\")\n",
    "woz_ontology = json.load(woz_ontology)\n",
    "print(len(woz_ontology.keys()))\n",
    "# collections.OrderedDict(sorted(woz_ontology.items()))"
   ]
  }
 ],
 "metadata": {
  "kernelspec": {
   "display_name": "Python 3.7.7 64-bit ('base': conda)",
   "name": "python377jvsc74a57bd098b0a9b7b4eaaa670588a142fd0a9b87eaafe866f1db4228be72b4211d12040f"
  },
  "language_info": {
   "codemirror_mode": {
    "name": "ipython",
    "version": 3
   },
   "file_extension": ".py",
   "mimetype": "text/x-python",
   "name": "python",
   "nbconvert_exporter": "python",
   "pygments_lexer": "ipython3",
   "version": "3.7.7"
  },
  "orig_nbformat": 2
 },
 "nbformat": 4,
 "nbformat_minor": 2
}